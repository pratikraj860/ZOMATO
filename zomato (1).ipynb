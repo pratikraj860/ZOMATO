{
 "cells": [
  {
   "cell_type": "code",
   "execution_count": 1,
   "id": "98956cdb",
   "metadata": {},
   "outputs": [],
   "source": [
    "import pandas as pd\n",
    "import numpy as np\n",
    "import matplotlib.pyplot as plt\n",
    "import seaborn as sns"
   ]
  },
  {
   "cell_type": "code",
   "execution_count": 2,
   "id": "38a3b0ce",
   "metadata": {},
   "outputs": [],
   "source": [
    "df=pd.read_csv(\"C:\\\\Users\\\\kvsan\\\\Desktop\\\\data analysis\\\\zomato.csv\",encoding=\"latin-1\") ## reading the data set"
   ]
  },
  {
   "cell_type": "code",
   "execution_count": 4,
   "id": "9c0356a2",
   "metadata": {},
   "outputs": [
    {
     "data": {
      "text/html": [
       "<div>\n",
       "<style scoped>\n",
       "    .dataframe tbody tr th:only-of-type {\n",
       "        vertical-align: middle;\n",
       "    }\n",
       "\n",
       "    .dataframe tbody tr th {\n",
       "        vertical-align: top;\n",
       "    }\n",
       "\n",
       "    .dataframe thead th {\n",
       "        text-align: right;\n",
       "    }\n",
       "</style>\n",
       "<table border=\"1\" class=\"dataframe\">\n",
       "  <thead>\n",
       "    <tr style=\"text-align: right;\">\n",
       "      <th></th>\n",
       "      <th>Restaurant ID</th>\n",
       "      <th>Restaurant Name</th>\n",
       "      <th>Country Code</th>\n",
       "      <th>City</th>\n",
       "      <th>Address</th>\n",
       "      <th>Locality</th>\n",
       "      <th>Locality Verbose</th>\n",
       "      <th>Longitude</th>\n",
       "      <th>Latitude</th>\n",
       "      <th>Cuisines</th>\n",
       "      <th>...</th>\n",
       "      <th>Currency</th>\n",
       "      <th>Has Table booking</th>\n",
       "      <th>Has Online delivery</th>\n",
       "      <th>Is delivering now</th>\n",
       "      <th>Switch to order menu</th>\n",
       "      <th>Price range</th>\n",
       "      <th>Aggregate rating</th>\n",
       "      <th>Rating color</th>\n",
       "      <th>Rating text</th>\n",
       "      <th>Votes</th>\n",
       "    </tr>\n",
       "  </thead>\n",
       "  <tbody>\n",
       "    <tr>\n",
       "      <th>0</th>\n",
       "      <td>6317637</td>\n",
       "      <td>Le Petit Souffle</td>\n",
       "      <td>162</td>\n",
       "      <td>Makati City</td>\n",
       "      <td>Third Floor, Century City Mall, Kalayaan Avenu...</td>\n",
       "      <td>Century City Mall, Poblacion, Makati City</td>\n",
       "      <td>Century City Mall, Poblacion, Makati City, Mak...</td>\n",
       "      <td>121.027535</td>\n",
       "      <td>14.565443</td>\n",
       "      <td>French, Japanese, Desserts</td>\n",
       "      <td>...</td>\n",
       "      <td>Botswana Pula(P)</td>\n",
       "      <td>Yes</td>\n",
       "      <td>No</td>\n",
       "      <td>No</td>\n",
       "      <td>No</td>\n",
       "      <td>3</td>\n",
       "      <td>4.8</td>\n",
       "      <td>Dark Green</td>\n",
       "      <td>Excellent</td>\n",
       "      <td>314</td>\n",
       "    </tr>\n",
       "    <tr>\n",
       "      <th>1</th>\n",
       "      <td>6304287</td>\n",
       "      <td>Izakaya Kikufuji</td>\n",
       "      <td>162</td>\n",
       "      <td>Makati City</td>\n",
       "      <td>Little Tokyo, 2277 Chino Roces Avenue, Legaspi...</td>\n",
       "      <td>Little Tokyo, Legaspi Village, Makati City</td>\n",
       "      <td>Little Tokyo, Legaspi Village, Makati City, Ma...</td>\n",
       "      <td>121.014101</td>\n",
       "      <td>14.553708</td>\n",
       "      <td>Japanese</td>\n",
       "      <td>...</td>\n",
       "      <td>Botswana Pula(P)</td>\n",
       "      <td>Yes</td>\n",
       "      <td>No</td>\n",
       "      <td>No</td>\n",
       "      <td>No</td>\n",
       "      <td>3</td>\n",
       "      <td>4.5</td>\n",
       "      <td>Dark Green</td>\n",
       "      <td>Excellent</td>\n",
       "      <td>591</td>\n",
       "    </tr>\n",
       "    <tr>\n",
       "      <th>2</th>\n",
       "      <td>6300002</td>\n",
       "      <td>Heat - Edsa Shangri-La</td>\n",
       "      <td>162</td>\n",
       "      <td>Mandaluyong City</td>\n",
       "      <td>Edsa Shangri-La, 1 Garden Way, Ortigas, Mandal...</td>\n",
       "      <td>Edsa Shangri-La, Ortigas, Mandaluyong City</td>\n",
       "      <td>Edsa Shangri-La, Ortigas, Mandaluyong City, Ma...</td>\n",
       "      <td>121.056831</td>\n",
       "      <td>14.581404</td>\n",
       "      <td>Seafood, Asian, Filipino, Indian</td>\n",
       "      <td>...</td>\n",
       "      <td>Botswana Pula(P)</td>\n",
       "      <td>Yes</td>\n",
       "      <td>No</td>\n",
       "      <td>No</td>\n",
       "      <td>No</td>\n",
       "      <td>4</td>\n",
       "      <td>4.4</td>\n",
       "      <td>Green</td>\n",
       "      <td>Very Good</td>\n",
       "      <td>270</td>\n",
       "    </tr>\n",
       "    <tr>\n",
       "      <th>3</th>\n",
       "      <td>6318506</td>\n",
       "      <td>Ooma</td>\n",
       "      <td>162</td>\n",
       "      <td>Mandaluyong City</td>\n",
       "      <td>Third Floor, Mega Fashion Hall, SM Megamall, O...</td>\n",
       "      <td>SM Megamall, Ortigas, Mandaluyong City</td>\n",
       "      <td>SM Megamall, Ortigas, Mandaluyong City, Mandal...</td>\n",
       "      <td>121.056475</td>\n",
       "      <td>14.585318</td>\n",
       "      <td>Japanese, Sushi</td>\n",
       "      <td>...</td>\n",
       "      <td>Botswana Pula(P)</td>\n",
       "      <td>No</td>\n",
       "      <td>No</td>\n",
       "      <td>No</td>\n",
       "      <td>No</td>\n",
       "      <td>4</td>\n",
       "      <td>4.9</td>\n",
       "      <td>Dark Green</td>\n",
       "      <td>Excellent</td>\n",
       "      <td>365</td>\n",
       "    </tr>\n",
       "    <tr>\n",
       "      <th>4</th>\n",
       "      <td>6314302</td>\n",
       "      <td>Sambo Kojin</td>\n",
       "      <td>162</td>\n",
       "      <td>Mandaluyong City</td>\n",
       "      <td>Third Floor, Mega Atrium, SM Megamall, Ortigas...</td>\n",
       "      <td>SM Megamall, Ortigas, Mandaluyong City</td>\n",
       "      <td>SM Megamall, Ortigas, Mandaluyong City, Mandal...</td>\n",
       "      <td>121.057508</td>\n",
       "      <td>14.584450</td>\n",
       "      <td>Japanese, Korean</td>\n",
       "      <td>...</td>\n",
       "      <td>Botswana Pula(P)</td>\n",
       "      <td>Yes</td>\n",
       "      <td>No</td>\n",
       "      <td>No</td>\n",
       "      <td>No</td>\n",
       "      <td>4</td>\n",
       "      <td>4.8</td>\n",
       "      <td>Dark Green</td>\n",
       "      <td>Excellent</td>\n",
       "      <td>229</td>\n",
       "    </tr>\n",
       "  </tbody>\n",
       "</table>\n",
       "<p>5 rows × 21 columns</p>\n",
       "</div>"
      ],
      "text/plain": [
       "   Restaurant ID         Restaurant Name  Country Code              City  \\\n",
       "0        6317637        Le Petit Souffle           162       Makati City   \n",
       "1        6304287        Izakaya Kikufuji           162       Makati City   \n",
       "2        6300002  Heat - Edsa Shangri-La           162  Mandaluyong City   \n",
       "3        6318506                    Ooma           162  Mandaluyong City   \n",
       "4        6314302             Sambo Kojin           162  Mandaluyong City   \n",
       "\n",
       "                                             Address  \\\n",
       "0  Third Floor, Century City Mall, Kalayaan Avenu...   \n",
       "1  Little Tokyo, 2277 Chino Roces Avenue, Legaspi...   \n",
       "2  Edsa Shangri-La, 1 Garden Way, Ortigas, Mandal...   \n",
       "3  Third Floor, Mega Fashion Hall, SM Megamall, O...   \n",
       "4  Third Floor, Mega Atrium, SM Megamall, Ortigas...   \n",
       "\n",
       "                                     Locality  \\\n",
       "0   Century City Mall, Poblacion, Makati City   \n",
       "1  Little Tokyo, Legaspi Village, Makati City   \n",
       "2  Edsa Shangri-La, Ortigas, Mandaluyong City   \n",
       "3      SM Megamall, Ortigas, Mandaluyong City   \n",
       "4      SM Megamall, Ortigas, Mandaluyong City   \n",
       "\n",
       "                                    Locality Verbose   Longitude   Latitude  \\\n",
       "0  Century City Mall, Poblacion, Makati City, Mak...  121.027535  14.565443   \n",
       "1  Little Tokyo, Legaspi Village, Makati City, Ma...  121.014101  14.553708   \n",
       "2  Edsa Shangri-La, Ortigas, Mandaluyong City, Ma...  121.056831  14.581404   \n",
       "3  SM Megamall, Ortigas, Mandaluyong City, Mandal...  121.056475  14.585318   \n",
       "4  SM Megamall, Ortigas, Mandaluyong City, Mandal...  121.057508  14.584450   \n",
       "\n",
       "                           Cuisines  ...          Currency Has Table booking  \\\n",
       "0        French, Japanese, Desserts  ...  Botswana Pula(P)               Yes   \n",
       "1                          Japanese  ...  Botswana Pula(P)               Yes   \n",
       "2  Seafood, Asian, Filipino, Indian  ...  Botswana Pula(P)               Yes   \n",
       "3                   Japanese, Sushi  ...  Botswana Pula(P)                No   \n",
       "4                  Japanese, Korean  ...  Botswana Pula(P)               Yes   \n",
       "\n",
       "  Has Online delivery Is delivering now Switch to order menu Price range  \\\n",
       "0                  No                No                   No           3   \n",
       "1                  No                No                   No           3   \n",
       "2                  No                No                   No           4   \n",
       "3                  No                No                   No           4   \n",
       "4                  No                No                   No           4   \n",
       "\n",
       "   Aggregate rating  Rating color Rating text Votes  \n",
       "0               4.8    Dark Green   Excellent   314  \n",
       "1               4.5    Dark Green   Excellent   591  \n",
       "2               4.4         Green   Very Good   270  \n",
       "3               4.9    Dark Green   Excellent   365  \n",
       "4               4.8    Dark Green   Excellent   229  \n",
       "\n",
       "[5 rows x 21 columns]"
      ]
     },
     "execution_count": 4,
     "metadata": {},
     "output_type": "execute_result"
    }
   ],
   "source": [
    "df.head()"
   ]
  },
  {
   "cell_type": "code",
   "execution_count": 5,
   "id": "2b864191",
   "metadata": {},
   "outputs": [
    {
     "name": "stdout",
     "output_type": "stream",
     "text": [
      "<class 'pandas.core.frame.DataFrame'>\n",
      "RangeIndex: 9551 entries, 0 to 9550\n",
      "Data columns (total 21 columns):\n",
      " #   Column                Non-Null Count  Dtype  \n",
      "---  ------                --------------  -----  \n",
      " 0   Restaurant ID         9551 non-null   int64  \n",
      " 1   Restaurant Name       9551 non-null   object \n",
      " 2   Country Code          9551 non-null   int64  \n",
      " 3   City                  9551 non-null   object \n",
      " 4   Address               9551 non-null   object \n",
      " 5   Locality              9551 non-null   object \n",
      " 6   Locality Verbose      9551 non-null   object \n",
      " 7   Longitude             9551 non-null   float64\n",
      " 8   Latitude              9551 non-null   float64\n",
      " 9   Cuisines              9542 non-null   object \n",
      " 10  Average Cost for two  9551 non-null   int64  \n",
      " 11  Currency              9551 non-null   object \n",
      " 12  Has Table booking     9551 non-null   object \n",
      " 13  Has Online delivery   9551 non-null   object \n",
      " 14  Is delivering now     9551 non-null   object \n",
      " 15  Switch to order menu  9551 non-null   object \n",
      " 16  Price range           9551 non-null   int64  \n",
      " 17  Aggregate rating      9551 non-null   float64\n",
      " 18  Rating color          9551 non-null   object \n",
      " 19  Rating text           9551 non-null   object \n",
      " 20  Votes                 9551 non-null   int64  \n",
      "dtypes: float64(3), int64(5), object(13)\n",
      "memory usage: 1.5+ MB\n"
     ]
    }
   ],
   "source": [
    "df.info() # checking the info"
   ]
  },
  {
   "cell_type": "code",
   "execution_count": 6,
   "id": "b1aff2b7",
   "metadata": {},
   "outputs": [
    {
     "data": {
      "text/plain": [
       "Restaurant ID           0\n",
       "Restaurant Name         0\n",
       "Country Code            0\n",
       "City                    0\n",
       "Address                 0\n",
       "Locality                0\n",
       "Locality Verbose        0\n",
       "Longitude               0\n",
       "Latitude                0\n",
       "Cuisines                9\n",
       "Average Cost for two    0\n",
       "Currency                0\n",
       "Has Table booking       0\n",
       "Has Online delivery     0\n",
       "Is delivering now       0\n",
       "Switch to order menu    0\n",
       "Price range             0\n",
       "Aggregate rating        0\n",
       "Rating color            0\n",
       "Rating text             0\n",
       "Votes                   0\n",
       "dtype: int64"
      ]
     },
     "execution_count": 6,
     "metadata": {},
     "output_type": "execute_result"
    }
   ],
   "source": [
    "df.isnull().sum() # 9 null values in the data set in Cuisines Column"
   ]
  },
  {
   "cell_type": "code",
   "execution_count": 7,
   "id": "792d6808",
   "metadata": {},
   "outputs": [],
   "source": [
    "df.dropna(inplace=True) ## As 9 is a very small number Droping them will not make an impact"
   ]
  },
  {
   "cell_type": "markdown",
   "id": "9fda29ad",
   "metadata": {},
   "source": [
    "## Univariate Analysis"
   ]
  },
  {
   "cell_type": "code",
   "execution_count": 10,
   "id": "87e25121",
   "metadata": {},
   "outputs": [],
   "source": [
    "df[\"Restaurant ID\"]=df[\"Restaurant ID\"].astype(object) # changed restaurant id to object"
   ]
  },
  {
   "cell_type": "code",
   "execution_count": 12,
   "id": "7b5cb647",
   "metadata": {},
   "outputs": [
    {
     "data": {
      "text/plain": [
       "7437"
      ]
     },
     "execution_count": 12,
     "metadata": {},
     "output_type": "execute_result"
    }
   ],
   "source": [
    "df[\"Restaurant Name\"].nunique() # we have 7437 unique restaurants"
   ]
  },
  {
   "cell_type": "code",
   "execution_count": 13,
   "id": "96153b56",
   "metadata": {},
   "outputs": [
    {
     "data": {
      "text/plain": [
       "Cafe Coffee Day             83\n",
       "Domino's Pizza              79\n",
       "Subway                      63\n",
       "Green Chick Chop            51\n",
       "McDonald's                  48\n",
       "                            ..\n",
       "The Town House Cafe          1\n",
       "The G.T. Road                1\n",
       "The Darzi Bar & Kitchen      1\n",
       "Smoke On Water               1\n",
       "Walter's Coffee Roastery     1\n",
       "Name: Restaurant Name, Length: 7437, dtype: int64"
      ]
     },
     "execution_count": 13,
     "metadata": {},
     "output_type": "execute_result"
    }
   ],
   "source": [
    "df[\"Restaurant Name\"].value_counts() # most orders are from cafe coffee day "
   ]
  },
  {
   "cell_type": "code",
   "execution_count": 14,
   "id": "2ebd0125",
   "metadata": {},
   "outputs": [
    {
     "data": {
      "text/plain": [
       "Cafe Coffee Day       83\n",
       "Domino's Pizza        79\n",
       "Subway                63\n",
       "Green Chick Chop      51\n",
       "McDonald's            48\n",
       "Keventers             34\n",
       "Pizza Hut             30\n",
       "Giani                 29\n",
       "Baskin Robbins        28\n",
       "Barbeque Nation       26\n",
       "Giani's               22\n",
       "Barista               22\n",
       "Dunkin' Donuts        22\n",
       "Pind Balluchi         20\n",
       "Costa Coffee          20\n",
       "Wah Ji Wah            19\n",
       "Twenty Four Seven     19\n",
       "Sagar Ratna           19\n",
       "Pizza Hut Delivery    19\n",
       "Starbucks             18\n",
       "Name: Restaurant Name, dtype: int64"
      ]
     },
     "execution_count": 14,
     "metadata": {},
     "output_type": "execute_result"
    }
   ],
   "source": [
    "df[\"Restaurant Name\"].value_counts().head(20) # below are the top 20 restaurants"
   ]
  },
  {
   "cell_type": "code",
   "execution_count": 15,
   "id": "679cbb61",
   "metadata": {},
   "outputs": [
    {
     "data": {
      "text/plain": [
       "Cafe Coffee Day         83\n",
       "Domino's Pizza          79\n",
       "Subway                  63\n",
       "Green Chick Chop        51\n",
       "McDonald's              48\n",
       "Keventers               34\n",
       "Pizza Hut               30\n",
       "Giani                   29\n",
       "Baskin Robbins          28\n",
       "Barbeque Nation         26\n",
       "Giani's                 22\n",
       "Barista                 22\n",
       "Dunkin' Donuts          22\n",
       "Pind Balluchi           20\n",
       "Costa Coffee            20\n",
       "Wah Ji Wah              19\n",
       "Twenty Four Seven       19\n",
       "Sagar Ratna             19\n",
       "Pizza Hut Delivery      19\n",
       "Starbucks               18\n",
       "KFC                     18\n",
       "Republic of Chicken     18\n",
       "Chaayos                 18\n",
       "Haldiram's              16\n",
       "Burger King             16\n",
       "Shree Rathnam           15\n",
       "Aggarwal Sweets         14\n",
       "Frontier                14\n",
       "Bikanervala             14\n",
       "Moti Mahal Delux        14\n",
       "Bikaner Sweets          13\n",
       "Behrouz Biryani         13\n",
       "Karim's                 13\n",
       "34, Chowringhee Lane    12\n",
       "Chicago Pizza           12\n",
       "Apni Rasoi              12\n",
       "Burger Point            11\n",
       "Wow! Momo               11\n",
       "Madras Cafe             11\n",
       "Gopala                  10\n",
       "Name: Restaurant Name, dtype: int64"
      ]
     },
     "execution_count": 15,
     "metadata": {},
     "output_type": "execute_result"
    }
   ],
   "source": [
    "## names of the restaurants having more than 10 orders\n",
    "df[\"Restaurant Name\"].value_counts()[df[\"Restaurant Name\"].value_counts()>=10]# names of the restaurants having more than 10 orders"
   ]
  },
  {
   "cell_type": "code",
   "execution_count": 16,
   "id": "d4d06e29",
   "metadata": {},
   "outputs": [
    {
     "data": {
      "text/plain": [
       "Mahipal Dhaba               1\n",
       "Laxmi Corner                1\n",
       "Saturn                      1\n",
       "Mughal Darbar               1\n",
       "Sugary Affairs              1\n",
       "                           ..\n",
       "The Town House Cafe         1\n",
       "The G.T. Road               1\n",
       "The Darzi Bar & Kitchen     1\n",
       "Smoke On Water              1\n",
       "Walter's Coffee Roastery    1\n",
       "Name: Restaurant Name, Length: 6703, dtype: int64"
      ]
     },
     "execution_count": 16,
     "metadata": {},
     "output_type": "execute_result"
    }
   ],
   "source": [
    "# names of the restaurants having only 1 order \n",
    "df[\"Restaurant Name\"].value_counts()[df[\"Restaurant Name\"].value_counts()==1]"
   ]
  },
  {
   "cell_type": "code",
   "execution_count": 18,
   "id": "72b90be2",
   "metadata": {},
   "outputs": [
    {
     "data": {
      "image/png": "[encoded data removed]",
      "text/plain": [
       "<Figure size 640x480 with 1 Axes>"
      ]
     },
     "metadata": {},
     "output_type": "display_data"
    }
   ],
   "source": [
    "# among 7437 orders 6703 are single order restaurants and remaining are non single orders\n",
    "plt.pie([6703,3873],labels=[\"single\",\"nonsingle\"],autopct=\"%2.2f\")\n",
    "plt.title(\"single order restaurants vs multi order restaurants\")\n",
    "# 63.38 percent of the orders are single orders...\n",
    "plt.show()"
   ]
  },
  {
   "cell_type": "code",
   "execution_count": 19,
   "id": "0793ee36",
   "metadata": {},
   "outputs": [
    {
     "data": {
      "text/plain": [
       "15"
      ]
     },
     "execution_count": 19,
     "metadata": {},
     "output_type": "execute_result"
    }
   ],
   "source": [
    "df[\"Country Code\"].nunique() # in 15 unique countries"
   ]
  },
  {
   "cell_type": "code",
   "execution_count": 20,
   "id": "7a5f11c3",
   "metadata": {},
   "outputs": [
    {
     "data": {
      "text/plain": [
       "1      8652\n",
       "216     425\n",
       "215      80\n",
       "30       60\n",
       "214      60\n",
       "189      60\n",
       "148      40\n",
       "208      34\n",
       "14       24\n",
       "162      22\n",
       "94       21\n",
       "184      20\n",
       "166      20\n",
       "191      20\n",
       "37        4\n",
       "Name: Country Code, dtype: int64"
      ]
     },
     "execution_count": 20,
     "metadata": {},
     "output_type": "execute_result"
    }
   ],
   "source": [
    "df[\"Country Code\"].value_counts()# most of the orders are from c1"
   ]
  },
  {
   "cell_type": "code",
   "execution_count": 22,
   "id": "6e64405d",
   "metadata": {},
   "outputs": [
    {
     "name": "stdout",
     "output_type": "stream",
     "text": [
      "9542\n"
     ]
    }
   ],
   "source": [
    "s=0\n",
    "for i in df[\"Country Code\"].value_counts():\n",
    "    s=s+i\n",
    "print(s)\n",
    "#In total of 9542,8652 orders are from c-1 and 890 are from others"
   ]
  },
  {
   "cell_type": "code",
   "execution_count": 24,
   "id": "a3af39e9",
   "metadata": {},
   "outputs": [
    {
     "data": {
      "image/png": "[encoded data removed]",
      "text/plain": [
       "<Figure size 640x480 with 1 Axes>"
      ]
     },
     "metadata": {},
     "output_type": "display_data"
    }
   ],
   "source": [
    "plt.pie([8652,890],labels=[\"c-1\",\"others\"],autopct=\"%2.2f\")\n",
    "plt.show()\n",
    "# 90 percent orders are from c-1 and remaining are from other countries"
   ]
  },
  {
   "cell_type": "code",
   "execution_count": 25,
   "id": "229b6b44",
   "metadata": {},
   "outputs": [
    {
     "data": {
      "text/plain": [
       "New Delhi         5473\n",
       "Gurgaon           1118\n",
       "Noida             1080\n",
       "Faridabad          251\n",
       "Ghaziabad           25\n",
       "                  ... \n",
       "Lincoln              1\n",
       "Lakeview             1\n",
       "Lakes Entrance       1\n",
       "Inverloch            1\n",
       "Panchkula            1\n",
       "Name: City, Length: 140, dtype: int64"
      ]
     },
     "execution_count": 25,
     "metadata": {},
     "output_type": "execute_result"
    }
   ],
   "source": [
    "df[\"City\"].value_counts() # most of the orders are from delhi"
   ]
  },
  {
   "cell_type": "code",
   "execution_count": 26,
   "id": "0a8f8d75",
   "metadata": {},
   "outputs": [
    {
     "data": {
      "text/plain": [
       "45"
      ]
     },
     "execution_count": 26,
     "metadata": {},
     "output_type": "execute_result"
    }
   ],
   "source": [
    "len(df[\"City\"].value_counts()[df[\"City\"].value_counts()==1])\n",
    "# in 45 cities there are single orders"
   ]
  },
  {
   "cell_type": "code",
   "execution_count": 27,
   "id": "857c092b",
   "metadata": {},
   "outputs": [
    {
     "data": {
      "text/plain": [
       "<Axes: >"
      ]
     },
     "execution_count": 27,
     "metadata": {},
     "output_type": "execute_result"
    },
    {
     "data": {
      "image/png": "[encoded data removed]",
      "text/plain": [
       "<Figure size 640x480 with 1 Axes>"
      ]
     },
     "metadata": {},
     "output_type": "display_data"
    }
   ],
   "source": [
    "df[\"City\"].value_counts().head().plot(kind=\"bar\")\n",
    "# more than 50 percent of orders are from new delhi"
   ]
  },
  {
   "cell_type": "code",
   "execution_count": 28,
   "id": "b470aabb",
   "metadata": {},
   "outputs": [
    {
     "data": {
      "text/plain": [
       "1825"
      ]
     },
     "execution_count": 28,
     "metadata": {},
     "output_type": "execute_result"
    }
   ],
   "source": [
    "df[\"Cuisines\"].nunique() # total we have 1825 unique cuisines"
   ]
  },
  {
   "cell_type": "code",
   "execution_count": 31,
   "id": "347e4ef2",
   "metadata": {},
   "outputs": [
    {
     "data": {
      "text/plain": [
       "North Indian                                             936\n",
       "North Indian, Chinese                                    511\n",
       "Chinese                                                  354\n",
       "Fast Food                                                354\n",
       "North Indian, Mughlai                                    334\n",
       "                                                        ... \n",
       "Bengali, Fast Food                                         1\n",
       "North Indian, Rajasthani, Asian                            1\n",
       "Chinese, Thai, Malaysian, Indonesian                       1\n",
       "Bakery, Desserts, North Indian, Bengali, South Indian      1\n",
       "Italian, World Cuisine                                     1\n",
       "Name: Cuisines, Length: 1825, dtype: int64"
      ]
     },
     "execution_count": 31,
     "metadata": {},
     "output_type": "execute_result"
    }
   ],
   "source": [
    "df[\"Cuisines\"].value_counts()\n",
    "# Number of orders from each cuisien"
   ]
  },
  {
   "cell_type": "code",
   "execution_count": 32,
   "id": "19d99aae",
   "metadata": {},
   "outputs": [
    {
     "data": {
      "text/plain": [
       "North Indian                      936\n",
       "North Indian, Chinese             511\n",
       "Chinese                           354\n",
       "Fast Food                         354\n",
       "North Indian, Mughlai             334\n",
       "Cafe                              299\n",
       "Bakery                            218\n",
       "North Indian, Mughlai, Chinese    197\n",
       "Bakery, Desserts                  170\n",
       "Street Food                       149\n",
       "Pizza, Fast Food                  131\n",
       "Chinese, Fast Food                118\n",
       "Mithai, Street Food               116\n",
       "South Indian                      112\n",
       "Bakery, Fast Food                 108\n",
       "Chinese, North Indian             105\n",
       "Mughlai                           103\n",
       "Name: Cuisines, dtype: int64"
      ]
     },
     "execution_count": 32,
     "metadata": {},
     "output_type": "execute_result"
    }
   ],
   "source": [
    "df[\"Cuisines\"].value_counts()[df[\"Cuisines\"].value_counts()>=100]\n",
    "# cuisines having more than are equal to 100 orders"
   ]
  },
  {
   "cell_type": "code",
   "execution_count": 33,
   "id": "de09e9fe",
   "metadata": {},
   "outputs": [
    {
     "data": {
      "text/plain": [
       "17"
      ]
     },
     "execution_count": 33,
     "metadata": {},
     "output_type": "execute_result"
    }
   ],
   "source": [
    "len(df[\"Cuisines\"].value_counts()[df[\"Cuisines\"].value_counts()>=100])\n",
    "# In total 17 Cuisiens are having more than 100 orders"
   ]
  },
  {
   "cell_type": "code",
   "execution_count": 32,
   "id": "8bd228d9",
   "metadata": {},
   "outputs": [
    {
     "data": {
      "text/plain": [
       "North Indian                                936\n",
       "North Indian, Chinese                       511\n",
       "Chinese                                     354\n",
       "Fast Food                                   354\n",
       "North Indian, Mughlai                       334\n",
       "Cafe                                        299\n",
       "Bakery                                      218\n",
       "North Indian, Mughlai, Chinese              197\n",
       "Bakery, Desserts                            170\n",
       "Street Food                                 149\n",
       "Pizza, Fast Food                            131\n",
       "Chinese, Fast Food                          118\n",
       "Mithai, Street Food                         116\n",
       "South Indian                                112\n",
       "Bakery, Fast Food                           108\n",
       "Chinese, North Indian                       105\n",
       "Mughlai                                     103\n",
       "Ice Cream, Desserts                          83\n",
       "Ice Cream                                    74\n",
       "North Indian, Fast Food                      74\n",
       "Mithai                                       71\n",
       "North Indian, Chinese, Mughlai               70\n",
       "North Indian, Chinese, Fast Food             68\n",
       "North Indian, Chinese, Continental           65\n",
       "Bakery, Desserts, Fast Food                  63\n",
       "American, Fast Food, Salad, Healthy Food     62\n",
       "Mughlai, North Indian                        60\n",
       "Fast Food, Burger                            56\n",
       "Italian                                      54\n",
       "Biryani                                      54\n",
       "Beverages                                    54\n",
       "Desserts                                     53\n",
       "Pizza                                        53\n",
       "Chinese, Thai                                51\n",
       "Name: Cuisines, dtype: int64"
      ]
     },
     "execution_count": 32,
     "metadata": {},
     "output_type": "execute_result"
    }
   ],
   "source": [
    "df[\"Cuisines\"].value_counts()[df[\"Cuisines\"].value_counts()>=50]\n",
    "# cuisines having more than are equal to 50 orders"
   ]
  },
  {
   "cell_type": "code",
   "execution_count": 35,
   "id": "ab6d47ae",
   "metadata": {},
   "outputs": [
    {
     "data": {
      "text/plain": [
       "34"
      ]
     },
     "execution_count": 35,
     "metadata": {},
     "output_type": "execute_result"
    }
   ],
   "source": [
    "len(df[\"Cuisines\"].value_counts()[df[\"Cuisines\"].value_counts()>=50])\n",
    "# 34 cuisines are having more than 50 orders"
   ]
  },
  {
   "cell_type": "code",
   "execution_count": 36,
   "id": "7ff340b8",
   "metadata": {},
   "outputs": [
    {
     "data": {
      "text/plain": [
       "North Indian, Chinese, Mughlai, Continental               1\n",
       "Contemporary                                              1\n",
       "Fast Food, North Indian, South Indian, Chinese, Bakery    1\n",
       "British, Steak                                            1\n",
       "Burger, Pizza, Biryani                                    1\n",
       "                                                         ..\n",
       "Bengali, Fast Food                                        1\n",
       "North Indian, Rajasthani, Asian                           1\n",
       "Chinese, Thai, Malaysian, Indonesian                      1\n",
       "Bakery, Desserts, North Indian, Bengali, South Indian     1\n",
       "Italian, World Cuisine                                    1\n",
       "Name: Cuisines, Length: 1278, dtype: int64"
      ]
     },
     "execution_count": 36,
     "metadata": {},
     "output_type": "execute_result"
    }
   ],
   "source": [
    "df[\"Cuisines\"].value_counts()[df[\"Cuisines\"].value_counts()==1]\n",
    "# cuisines having only 1 order"
   ]
  },
  {
   "cell_type": "code",
   "execution_count": 37,
   "id": "e467e162",
   "metadata": {},
   "outputs": [
    {
     "data": {
      "text/plain": [
       "1278"
      ]
     },
     "execution_count": 37,
     "metadata": {},
     "output_type": "execute_result"
    }
   ],
   "source": [
    "len(df[\"Cuisines\"].value_counts()[df[\"Cuisines\"].value_counts()==1])\n",
    "# there are 1278 cuisines which have only single order"
   ]
  },
  {
   "cell_type": "code",
   "execution_count": 38,
   "id": "62fcedd9",
   "metadata": {},
   "outputs": [
    {
     "data": {
      "text/plain": [
       "North Indian                      936\n",
       "North Indian, Chinese             511\n",
       "Chinese                           354\n",
       "Fast Food                         354\n",
       "North Indian, Mughlai             334\n",
       "Cafe                              299\n",
       "Bakery                            218\n",
       "North Indian, Mughlai, Chinese    197\n",
       "Bakery, Desserts                  170\n",
       "Street Food                       149\n",
       "Name: Cuisines, dtype: int64"
      ]
     },
     "execution_count": 38,
     "metadata": {},
     "output_type": "execute_result"
    }
   ],
   "source": [
    "# top 10 most ordering cuisines\n",
    "df[\"Cuisines\"].value_counts().head(10)"
   ]
  },
  {
   "cell_type": "code",
   "execution_count": 39,
   "id": "7a52e0f6",
   "metadata": {},
   "outputs": [
    {
     "data": {
      "text/plain": [
       "4259"
      ]
     },
     "execution_count": 39,
     "metadata": {},
     "output_type": "execute_result"
    }
   ],
   "source": [
    "#how many indian cuisines are there \n",
    "df[\"Cuisines\"].str.contains(\"Indian\").sum()"
   ]
  },
  {
   "cell_type": "code",
   "execution_count": 42,
   "id": "77960e9a",
   "metadata": {},
   "outputs": [
    {
     "data": {
      "text/plain": [
       "Indian Rupees(Rs.)        8652\n",
       "Dollar($)                  473\n",
       "Pounds(£)                  80\n",
       "Brazilian Real(R$)          60\n",
       "Emirati Diram(AED)          60\n",
       "Rand(R)                     60\n",
       "NewZealand($)               40\n",
       "Turkish Lira(TL)            34\n",
       "Botswana Pula(P)            22\n",
       "Indonesian Rupiah(IDR)      21\n",
       "Qatari Rial(QR)             20\n",
       "Sri Lankan Rupee(LKR)       20\n",
       "Name: Currency, dtype: int64"
      ]
     },
     "execution_count": 42,
     "metadata": {},
     "output_type": "execute_result"
    }
   ],
   "source": [
    "df[\"Currency\"].value_counts()\n",
    "# Analysing Currency column"
   ]
  },
  {
   "cell_type": "code",
   "execution_count": 44,
   "id": "e8cc82c5",
   "metadata": {},
   "outputs": [
    {
     "data": {
      "image/png": "[encoded data removed]",
      "text/plain": [
       "<Figure size 640x480 with 1 Axes>"
      ]
     },
     "metadata": {},
     "output_type": "display_data"
    }
   ],
   "source": [
    "plt.pie([8652,899],labels=[\"Indian rupees\",\"Others\"],autopct=\"%2.2f\")\n",
    "\n",
    "plt.title(\"used currency while payments\")\n",
    "plt.show()\n",
    "# More than 90 percent of payments are done in Indian Rupees"
   ]
  },
  {
   "cell_type": "code",
   "execution_count": 45,
   "id": "e9e810f7",
   "metadata": {},
   "outputs": [
    {
     "data": {
      "text/plain": [
       "<Axes: ylabel='Has Online delivery'>"
      ]
     },
     "execution_count": 45,
     "metadata": {},
     "output_type": "execute_result"
    },
    {
     "data": {
      "image/png": "[encoded data removed]",
      "text/plain": [
       "<Figure size 640x480 with 1 Axes>"
      ]
     },
     "metadata": {},
     "output_type": "display_data"
    }
   ],
   "source": [
    "df[\"Has Online delivery\"].value_counts().plot(kind=\"pie\",autopct=\"%2.2f\")\n",
    "# 74 percent do not having online delivery 25.66 have the online delivery"
   ]
  },
  {
   "cell_type": "code",
   "execution_count": 46,
   "id": "e7999208",
   "metadata": {},
   "outputs": [
    {
     "data": {
      "text/plain": [
       "<Axes: ylabel='Switch to order menu'>"
      ]
     },
     "execution_count": 46,
     "metadata": {},
     "output_type": "execute_result"
    },
    {
     "data": {
      "image/png": "[encoded data removed]",
      "text/plain": [
       "<Figure size 640x480 with 1 Axes>"
      ]
     },
     "metadata": {},
     "output_type": "display_data"
    }
   ],
   "source": [
    "df[\"Switch to order menu\"].value_counts().plot(kind=\"pie\",autopct=\"%2.2f\")\n",
    "# no one has switch to order menu"
   ]
  },
  {
   "cell_type": "code",
   "execution_count": 47,
   "id": "b3a3c770",
   "metadata": {},
   "outputs": [
    {
     "data": {
      "text/plain": [
       "1    4438\n",
       "2    3113\n",
       "3    1405\n",
       "4     586\n",
       "Name: Price range, dtype: int64"
      ]
     },
     "execution_count": 47,
     "metadata": {},
     "output_type": "execute_result"
    }
   ],
   "source": [
    "df[\"Price range\"].value_counts() # in terms of values"
   ]
  },
  {
   "cell_type": "code",
   "execution_count": 48,
   "id": "10b78997",
   "metadata": {},
   "outputs": [
    {
     "data": {
      "text/plain": [
       "<Axes: ylabel='Price range'>"
      ]
     },
     "execution_count": 48,
     "metadata": {},
     "output_type": "execute_result"
    },
    {
     "data": {
      "image/png": "[encoded data removed]",
      "text/plain": [
       "<Figure size 640x480 with 1 Axes>"
      ]
     },
     "metadata": {},
     "output_type": "display_data"
    }
   ],
   "source": [
    "df[\"Price range\"].value_counts().plot(kind=\"pie\",autopct=\"%0.2f\")\n",
    "# 46 percent of orders are from 1 \n",
    "# 32 are from 2\n",
    "# like wise "
   ]
  },
  {
   "cell_type": "code",
   "execution_count": 49,
   "id": "bd45451a",
   "metadata": {},
   "outputs": [
    {
     "data": {
      "text/plain": [
       "0.0    2148\n",
       "3.2     522\n",
       "3.1     519\n",
       "3.4     495\n",
       "3.3     483\n",
       "3.5     480\n",
       "3.0     468\n",
       "3.6     458\n",
       "3.7     427\n",
       "3.8     399\n",
       "2.9     381\n",
       "3.9     332\n",
       "2.8     315\n",
       "4.1     274\n",
       "4.0     266\n",
       "2.7     250\n",
       "4.2     221\n",
       "2.6     191\n",
       "4.3     174\n",
       "4.4     143\n",
       "2.5     110\n",
       "4.5      95\n",
       "2.4      87\n",
       "4.6      78\n",
       "4.9      61\n",
       "2.3      47\n",
       "4.7      41\n",
       "2.2      27\n",
       "4.8      25\n",
       "2.1      15\n",
       "2.0       7\n",
       "1.9       2\n",
       "1.8       1\n",
       "Name: Aggregate rating, dtype: int64"
      ]
     },
     "execution_count": 49,
     "metadata": {},
     "output_type": "execute_result"
    }
   ],
   "source": [
    "df[\"Aggregate rating\"].value_counts()\n",
    "## 2148 people have given 0 rating"
   ]
  },
  {
   "cell_type": "code",
   "execution_count": 50,
   "id": "bcd6d843",
   "metadata": {},
   "outputs": [
    {
     "name": "stdout",
     "output_type": "stream",
     "text": [
      "equal to 5: 0\n",
      "equal or grater than 4.5 and less than 5 300\n",
      "equal or grater than 4 and less than 4.5: 1078\n",
      "equal or grater than 3 and less than 4: 4583\n",
      "equal or less than 3: 1433\n",
      "equal to 0: 2148\n"
     ]
    }
   ],
   "source": [
    "s=0\n",
    "s1=0\n",
    "s3=0\n",
    "s4=0\n",
    "s5=0\n",
    "s6=0\n",
    "for i in df[\"Aggregate rating\"]:\n",
    "    if i==5:\n",
    "        s=s+1\n",
    "    elif i<5 and i>=4.5:\n",
    "        s1=s1+1\n",
    "    elif i<4.5 and i>=4:\n",
    "        s3=s3+1\n",
    "    elif i<4 and i>=3:\n",
    "        s4=s4+1\n",
    "    elif i<3 and i>0:\n",
    "        s5=s5+1\n",
    "    else:\n",
    "        s6=s6+1\n",
    "        \n",
    "print(\"equal to 5:\", s)\n",
    "print(\"equal or grater than 4.5 and less than 5\",s1)\n",
    "print(\"equal or grater than 4 and less than 4.5:\",s3)\n",
    "print(\"equal or grater than 3 and less than 4:\",s4)\n",
    "print(\"equal or less than 3:\",s5)\n",
    "print(\"equal to 0:\",s6)"
   ]
  },
  {
   "cell_type": "code",
   "execution_count": 51,
   "id": "9620e8af",
   "metadata": {},
   "outputs": [
    {
     "data": {
      "image/png": "[encoded data removed]",
      "text/plain": [
       "<Figure size 640x480 with 1 Axes>"
      ]
     },
     "metadata": {},
     "output_type": "display_data"
    }
   ],
   "source": [
    "plt.pie([301,1079,1433,2148],labels=[\">4 and <=4.5\",\">3 and <=4\",\"<3\",\"=0\"],autopct=\"%0.2f\")\n",
    "plt.show()\n",
    "## 43 percent of reviews are equal to 0"
   ]
  },
  {
   "cell_type": "code",
   "execution_count": 57,
   "id": "aeb45daf",
   "metadata": {},
   "outputs": [
    {
     "data": {
      "text/plain": [
       "count     9542.000000\n",
       "mean       156.772060\n",
       "std        430.203324\n",
       "min          0.000000\n",
       "25%          5.000000\n",
       "50%         31.000000\n",
       "75%        130.000000\n",
       "max      10934.000000\n",
       "Name: Votes, dtype: float64"
      ]
     },
     "execution_count": 57,
     "metadata": {},
     "output_type": "execute_result"
    }
   ],
   "source": [
    "df[\"Votes\"].describe()\n",
    "# what all these and what is the best way to plot these"
   ]
  },
  {
   "cell_type": "code",
   "execution_count": 52,
   "id": "cf8e00dc",
   "metadata": {},
   "outputs": [
    {
     "data": {
      "text/plain": [
       "<Axes: ylabel='Rating color'>"
      ]
     },
     "execution_count": 52,
     "metadata": {},
     "output_type": "execute_result"
    },
    {
     "data": {
      "image/png": "[encoded data removed]",
      "text/plain": [
       "<Figure size 640x480 with 1 Axes>"
      ]
     },
     "metadata": {},
     "output_type": "display_data"
    }
   ],
   "source": [
    "df[\"Rating color\"].value_counts().plot(kind=\"pie\",autopct=\"%2.2f\")"
   ]
  },
  {
   "cell_type": "code",
   "execution_count": 53,
   "id": "4eab84bd",
   "metadata": {},
   "outputs": [
    {
     "data": {
      "text/plain": [
       "<Axes: ylabel='Rating text'>"
      ]
     },
     "execution_count": 53,
     "metadata": {},
     "output_type": "execute_result"
    },
    {
     "data": {
      "image/png": "[encoded data removed]",
      "text/plain": [
       "<Figure size 500x500 with 1 Axes>"
      ]
     },
     "metadata": {},
     "output_type": "display_data"
    }
   ],
   "source": [
    "plt.figure(figsize=(5,5))\n",
    "df[\"Rating text\"].value_counts().plot(kind=\"pie\",autopct=\"%2.2f\")"
   ]
  },
  {
   "cell_type": "code",
   "execution_count": 62,
   "id": "5d5933b4",
   "metadata": {},
   "outputs": [
    {
     "data": {
      "text/plain": [
       "count      9542.000000\n",
       "mean       1200.326137\n",
       "std       16128.743876\n",
       "min           0.000000\n",
       "25%         250.000000\n",
       "50%         400.000000\n",
       "75%         700.000000\n",
       "max      800000.000000\n",
       "Name: Average Cost for two, dtype: float64"
      ]
     },
     "execution_count": 62,
     "metadata": {},
     "output_type": "execute_result"
    }
   ],
   "source": [
    "df[\"Average Cost for two\"].describe()    "
   ]
  },
  {
   "cell_type": "code",
   "execution_count": 57,
   "id": "bb390340",
   "metadata": {},
   "outputs": [
    {
     "data": {
      "text/plain": [
       "4295"
      ]
     },
     "execution_count": 57,
     "metadata": {},
     "output_type": "execute_result"
    }
   ],
   "source": [
    "df[df[\"City\"]==\"New Delhi\"][\"Restaurant Name\"].nunique()\n",
    "## 4295 unique resturents are there in New Delhi"
   ]
  },
  {
   "cell_type": "code",
   "execution_count": 59,
   "id": "da59a13b",
   "metadata": {},
   "outputs": [
    {
     "data": {
      "text/plain": [
       "<Axes: ylabel='City'>"
      ]
     },
     "execution_count": 59,
     "metadata": {},
     "output_type": "execute_result"
    },
    {
     "data": {
      "image/png": "[encoded data removed]",
      "text/plain": [
       "<Figure size 640x480 with 1 Axes>"
      ]
     },
     "metadata": {},
     "output_type": "display_data"
    }
   ],
   "source": [
    "sns.barplot(y=df[\"City\"].value_counts().head(),x=[\"New Delhi\",\"Gurgaon\",\"Noida\",\"Faridabad\",\"Ghaziabad\"])\n",
    "## number of orders "
   ]
  },
  {
   "cell_type": "code",
   "execution_count": 61,
   "id": "d54fa502",
   "metadata": {},
   "outputs": [
    {
     "name": "stdout",
     "output_type": "stream",
     "text": [
      "New Delhi 4295\n",
      "Gurgaon 943\n",
      "Noida 902\n",
      "Faridabad 235\n",
      "Ghaziabad 25\n"
     ]
    }
   ],
   "source": [
    "# number of restaurants per city\n",
    "l=[\"New Delhi\",\"Gurgaon\",\"Noida\",\"Faridabad\",\"Ghaziabad\"]\n",
    "for j in l:\n",
    "    print(j, df[df[\"City\"]==j][\"Restaurant Name\"].nunique())\n",
    "# we can plot this also\n"
   ]
  },
  {
   "cell_type": "code",
   "execution_count": 62,
   "id": "52d4b2cb",
   "metadata": {},
   "outputs": [
    {
     "data": {
      "text/plain": [
       "<Axes: >"
      ]
     },
     "execution_count": 62,
     "metadata": {},
     "output_type": "execute_result"
    },
    {
     "data": {
      "image/png": "[encoded data removed]",
      "text/plain": [
       "<Figure size 640x480 with 1 Axes>"
      ]
     },
     "metadata": {},
     "output_type": "display_data"
    }
   ],
   "source": [
    "sns.barplot(y=m,x=[\"New Delhi\",\"Gurgaon\",\"Noida\",\"Faridabad\",\"Ghaziabad\"])"
   ]
  },
  {
   "cell_type": "code",
   "execution_count": 63,
   "id": "b69260c8",
   "metadata": {},
   "outputs": [],
   "source": [
    "# if i want to open a new cloud kitech i will open at noida because every hotel is getting the order and hotels are also less"
   ]
  },
  {
   "cell_type": "code",
   "execution_count": 64,
   "id": "8378944f",
   "metadata": {},
   "outputs": [
    {
     "data": {
      "text/plain": [
       "2560                         Cuisine Varies\n",
       "2561                              Fast Food\n",
       "2562     North Indian, Seafood, Continental\n",
       "2563             South Indian, North Indian\n",
       "2564    South Indian, North Indian, Chinese\n",
       "                       ...                 \n",
       "8028      Lebanese, North Indian, Fast Food\n",
       "8029                                Chinese\n",
       "8030                                Mughlai\n",
       "8031                           North Indian\n",
       "8032                                 Awadhi\n",
       "Name: Cuisines, Length: 5473, dtype: object"
      ]
     },
     "execution_count": 64,
     "metadata": {},
     "output_type": "execute_result"
    }
   ],
   "source": [
    "df[df[\"City\"]==\"New Delhi\"][\"Cuisines\"] #cuisines in New Delhi"
   ]
  },
  {
   "cell_type": "code",
   "execution_count": 65,
   "id": "559a45c7",
   "metadata": {},
   "outputs": [],
   "source": [
    "df1=df[df[\"City\"]==\"New Delhi\"]  \n",
    "df2=df[df[\"City\"]==\"Gurgaon\"]\n",
    "df3=df[df[\"City\"]==\"Noida\"]\n",
    "df4=df[df[\"City\"]==\"Faridabad\"]\n",
    "df5=df[df[\"City\"]==\"Ghaziabad\"]\n",
    "df_f=pd.concat([df1,df2,df3,df4,df5],axis=0)"
   ]
  },
  {
   "cell_type": "code",
   "execution_count": 73,
   "id": "0334aaa3",
   "metadata": {},
   "outputs": [],
   "source": [
    "df_f.drop(\"Locality\",axis=1,inplace=True) # Droping Locality"
   ]
  },
  {
   "cell_type": "code",
   "execution_count": 71,
   "id": "b6e8241a",
   "metadata": {},
   "outputs": [],
   "source": [
    "df_f.drop(\"Locality Verbose\",axis=1,inplace=True) # Droping Locality Verbose"
   ]
  },
  {
   "cell_type": "code",
   "execution_count": 74,
   "id": "35bd50c2",
   "metadata": {},
   "outputs": [],
   "source": [
    "df_f.drop(\"Longitude\",axis=1,inplace=True) # Droping Longitude"
   ]
  },
  {
   "cell_type": "code",
   "execution_count": 78,
   "id": "90814af1",
   "metadata": {},
   "outputs": [],
   "source": [
    "df_f.drop(\"Latitude\",axis=1,inplace=True) # Droping Latitude\n",
    "# droping all these are part of feature engineering with a domain knowledge we can delete the features that we feel wont make an impact"
   ]
  },
  {
   "cell_type": "code",
   "execution_count": 79,
   "id": "3625a7b8",
   "metadata": {},
   "outputs": [
    {
     "name": "stdout",
     "output_type": "stream",
     "text": [
      "average cost of 2 orders in New Delhi  : 596.09\n",
      "average cost of 2 orders in Gurgaon  : 714.02\n",
      "average cost of 2 orders in Noida  : 539.49\n",
      "average cost of 2 orders in Faridabad  : 447.61\n",
      "average cost of 2 orders in Ghaziabad  : 602.0\n"
     ]
    }
   ],
   "source": [
    "for i in [\"New Delhi\",\"Gurgaon\",\"Noida\",\"Faridabad\",\"Ghaziabad\"]:\n",
    "    print(\"average cost of 2 orders in\",i,\" :\" ,round(df_f[df_f[\"City\"]==i][\"Average Cost for two\"].mean(),2))   "
   ]
  },
  {
   "cell_type": "code",
   "execution_count": 81,
   "id": "84d52df3",
   "metadata": {},
   "outputs": [
    {
     "data": {
      "text/plain": [
       "<Axes: xlabel='City', ylabel='count'>"
      ]
     },
     "execution_count": 81,
     "metadata": {},
     "output_type": "execute_result"
    },
    {
     "data": {
      "image/png": "[encoded data removed]",
      "text/plain": [
       "<Figure size 640x480 with 1 Axes>"
      ]
     },
     "metadata": {},
     "output_type": "display_data"
    }
   ],
   "source": [
    "sns.countplot(x=\"City\",hue=\"Has Table booking\",data=df_f)\n",
    "# We can see even if you dont have table booking you will get orders in fact you will get more orders"
   ]
  },
  {
   "cell_type": "code",
   "execution_count": 82,
   "id": "ef911e8e",
   "metadata": {},
   "outputs": [
    {
     "name": "stdout",
     "output_type": "stream",
     "text": [
      "top 10 hotels in  New Delhi\n",
      "Cafe Coffee Day     57\n",
      "Domino's Pizza      55\n",
      "Subway              38\n",
      "Green Chick Chop    37\n",
      "McDonald's          33\n",
      "Keventers           24\n",
      "Giani               24\n",
      "Giani's             17\n",
      "Wah Ji Wah          14\n",
      "Aggarwal Sweets     14\n",
      "Name: Restaurant Name, dtype: int64\n",
      "--------------------------------------------------------------------------------\n",
      "top 10 hotels in  Gurgaon\n",
      "Cafe Coffee Day    11\n",
      "Subway             11\n",
      "Domino's Pizza      9\n",
      "Barista             6\n",
      "McDonald's          6\n",
      "Starbucks           6\n",
      "Dunkin' Donuts      6\n",
      "Burger Point        5\n",
      "Chaayos             5\n",
      "Costa Coffee        5\n",
      "Name: Restaurant Name, dtype: int64\n",
      "--------------------------------------------------------------------------------\n",
      "top 10 hotels in  Noida\n",
      "Cafe Coffee Day      13\n",
      "Domino's Pizza       11\n",
      "Subway               11\n",
      "Baskin Robbins       10\n",
      "Pizza Hut             7\n",
      "Barista               7\n",
      "Keventers             7\n",
      "Green Chick Chop      6\n",
      "Twenty Four Seven     5\n",
      "McDonald's            5\n",
      "Name: Restaurant Name, dtype: int64\n",
      "--------------------------------------------------------------------------------\n",
      "top 10 hotels in  Faridabad\n",
      "Green Chick Chop                 4\n",
      "Momo-Cha                         4\n",
      "Sanjha Chulha                    3\n",
      "Shree Bikaner Misthan Bhandar    3\n",
      "Giani's                          2\n",
      "Subway                           2\n",
      "Shree Rathnam                    2\n",
      "Frontier                         2\n",
      "The Chaiwalas                    2\n",
      "Perfect Bake                     2\n",
      "Name: Restaurant Name, dtype: int64\n",
      "--------------------------------------------------------------------------------\n",
      "top 10 hotels in  Ghaziabad\n",
      "Chaudhary Ke Mashhoor Paranthe    1\n",
      "Costa Coffee                      1\n",
      "Maini Restaurant                  1\n",
      "Pind Balluchi                     1\n",
      "Haldiram's                        1\n",
      "Dunkin' Donuts                    1\n",
      "Mx Corn                           1\n",
      "McDonald's                        1\n",
      "Let's Noodle                      1\n",
      "Kebab Xpress                      1\n",
      "Name: Restaurant Name, dtype: int64\n",
      "--------------------------------------------------------------------------------\n"
     ]
    }
   ],
   "source": [
    "for i in [\"New Delhi\",\"Gurgaon\",\"Noida\",\"Faridabad\",\"Ghaziabad\"]:\n",
    "    print(\"top 10 hotels in \",i)\n",
    "    print(df_f[df_f[\"City\"]==i][\"Restaurant Name\"].value_counts().head(10))\n",
    "    print(\"--\"*40)"
   ]
  },
  {
   "cell_type": "code",
   "execution_count": 92,
   "id": "3915a7c5",
   "metadata": {},
   "outputs": [
    {
     "name": "stdout",
     "output_type": "stream",
     "text": [
      "Top 10 Cuisines in New Delhi :\n",
      "North Indian                      658\n",
      "North Indian, Chinese             284\n",
      "Fast Food                         242\n",
      "Chinese                           228\n",
      "North Indian, Mughlai             207\n",
      "Cafe                              158\n",
      "Street Food                       123\n",
      "Bakery                            122\n",
      "North Indian, Mughlai, Chinese    120\n",
      "Bakery, Desserts                  117\n",
      "Name: Cuisines, dtype: int64\n",
      "--------------------------------------------------------------------------------\n",
      "Top 10 Cuisines in Gurgaon :\n",
      "North Indian                      105\n",
      "North Indian, Chinese              66\n",
      "Cafe                               45\n",
      "North Indian, Mughlai              42\n",
      "Bakery                             35\n",
      "Chinese                            32\n",
      "Fast Food                          25\n",
      "Bakery, Desserts                   25\n",
      "North Indian, Mughlai, Chinese     17\n",
      "Pizza, Fast Food                   15\n",
      "Name: Cuisines, dtype: int64\n",
      "--------------------------------------------------------------------------------\n",
      "Top 10 Cuisines in Noida :\n",
      "North Indian                      110\n",
      "North Indian, Chinese              97\n",
      "North Indian, Mughlai              54\n",
      "Chinese                            54\n",
      "Fast Food                          53\n",
      "North Indian, Mughlai, Chinese     44\n",
      "Bakery                             43\n",
      "Cafe                               40\n",
      "Bakery, Desserts                   21\n",
      "Ice Cream                          18\n",
      "Name: Cuisines, dtype: int64\n",
      "--------------------------------------------------------------------------------\n",
      "Top 10 Cuisines in Faridabad :\n",
      "North Indian                      28\n",
      "North Indian, Chinese             27\n",
      "North Indian, Mughlai, Chinese    13\n",
      "Bakery                            12\n",
      "North Indian, Mughlai             10\n",
      "Fast Food                         10\n",
      "Chinese                            9\n",
      "Cafe                               8\n",
      "Bakery, Fast Food                  7\n",
      "Mithai, Street Food                6\n",
      "Name: Cuisines, dtype: int64\n",
      "--------------------------------------------------------------------------------\n",
      "Top 10 Cuisines in Ghaziabad :\n",
      "North Indian                                                                     3\n",
      "Cafe                                                                             3\n",
      "North Indian, Mughlai                                                            2\n",
      "Ice Cream                                                                        2\n",
      "Chinese                                                                          2\n",
      "North Indian, Fast Food                                                          1\n",
      "North Indian, South Indian, Chinese, Street Food, Fast Food, Mithai, Desserts    1\n",
      "Burger, Desserts, Fast Food                                                      1\n",
      "Fast Food                                                                        1\n",
      "Fast Food, Burger                                                                1\n",
      "Name: Cuisines, dtype: int64\n",
      "--------------------------------------------------------------------------------\n"
     ]
    }
   ],
   "source": [
    "for i in [\"New Delhi\",\"Gurgaon\",\"Noida\",\"Faridabad\",\"Ghaziabad\"]:\n",
    "    print(\"Top 10 Cuisines in\",i,\":\")\n",
    "    print(df_f[df_f[\"City\"]==i][\"Cuisines\"].value_counts().head(10))\n",
    "    print(\"--\"*40)"
   ]
  },
  {
   "cell_type": "code",
   "execution_count": 84,
   "id": "20c41617",
   "metadata": {},
   "outputs": [],
   "source": [
    "df2=pd.DataFrame()\n",
    "df2[\"Cuisines\"]=df[\"Cuisines\"]\n",
    "df2[\"Average Cost for two\"]=df[\"Average Cost for two\"]"
   ]
  },
  {
   "cell_type": "code",
   "execution_count": 85,
   "id": "ba9144c0",
   "metadata": {},
   "outputs": [
    {
     "data": {
      "text/html": [
       "<div>\n",
       "<style scoped>\n",
       "    .dataframe tbody tr th:only-of-type {\n",
       "        vertical-align: middle;\n",
       "    }\n",
       "\n",
       "    .dataframe tbody tr th {\n",
       "        vertical-align: top;\n",
       "    }\n",
       "\n",
       "    .dataframe thead th {\n",
       "        text-align: right;\n",
       "    }\n",
       "</style>\n",
       "<table border=\"1\" class=\"dataframe\">\n",
       "  <thead>\n",
       "    <tr style=\"text-align: right;\">\n",
       "      <th></th>\n",
       "      <th>Cuisines</th>\n",
       "      <th>Average Cost for two</th>\n",
       "    </tr>\n",
       "  </thead>\n",
       "  <tbody>\n",
       "    <tr>\n",
       "      <th>9283</th>\n",
       "      <td>Italian, Continental</td>\n",
       "      <td>800000</td>\n",
       "    </tr>\n",
       "    <tr>\n",
       "      <th>9284</th>\n",
       "      <td>Asian, Indonesian, Western</td>\n",
       "      <td>800000</td>\n",
       "    </tr>\n",
       "  </tbody>\n",
       "</table>\n",
       "</div>"
      ],
      "text/plain": [
       "                        Cuisines  Average Cost for two\n",
       "9283        Italian, Continental                800000\n",
       "9284  Asian, Indonesian, Western                800000"
      ]
     },
     "execution_count": 85,
     "metadata": {},
     "output_type": "execute_result"
    }
   ],
   "source": [
    "df2[df2[\"Average Cost for two\"]==800000]\n",
    "#these 2 are the most counstly cuisines"
   ]
  },
  {
   "cell_type": "code",
   "execution_count": 86,
   "id": "01516411",
   "metadata": {},
   "outputs": [
    {
     "data": {
      "text/plain": [
       "2321       Indore\n",
       "2783    New Delhi\n",
       "3976    New Delhi\n",
       "4718    New Delhi\n",
       "7523    New Delhi\n",
       "9283      Jakarta\n",
       "Name: City, dtype: object"
      ]
     },
     "execution_count": 86,
     "metadata": {},
     "output_type": "execute_result"
    }
   ],
   "source": [
    "df[df[\"Cuisines\"]==\"Italian, Continental\"][\"City\"]\n",
    "## these are available only at new delhi and indore"
   ]
  },
  {
   "cell_type": "code",
   "execution_count": 88,
   "id": "3990af07",
   "metadata": {},
   "outputs": [
    {
     "data": {
      "text/plain": [
       "9284    Jakarta\n",
       "Name: City, dtype: object"
      ]
     },
     "execution_count": 88,
     "metadata": {},
     "output_type": "execute_result"
    }
   ],
   "source": [
    "df[df[\"Cuisines\"]==\"Asian, Indonesian, Western\"][\"City\"]\n",
    "## Available only in Jakarta"
   ]
  },
  {
   "cell_type": "code",
   "execution_count": 89,
   "id": "83632b29",
   "metadata": {},
   "outputs": [
    {
     "data": {
      "text/plain": [
       "count      9542.000000\n",
       "mean       1200.326137\n",
       "std       16128.743876\n",
       "min           0.000000\n",
       "25%         250.000000\n",
       "50%         400.000000\n",
       "75%         700.000000\n",
       "max      800000.000000\n",
       "Name: Average Cost for two, dtype: float64"
      ]
     },
     "execution_count": 89,
     "metadata": {},
     "output_type": "execute_result"
    }
   ],
   "source": [
    "df2[\"Average Cost for two\"].describe()"
   ]
  },
  {
   "cell_type": "code",
   "execution_count": 90,
   "id": "b73f2ce9",
   "metadata": {},
   "outputs": [
    {
     "data": {
      "text/plain": [
       "9283                        Skye\n",
       "9284    Satoo - Hotel Shangri-La\n",
       "Name: Restaurant Name, dtype: object"
      ]
     },
     "execution_count": 90,
     "metadata": {},
     "output_type": "execute_result"
    }
   ],
   "source": [
    "df[df[\"Average Cost for two\"]==800000][\"Restaurant Name\"]\n",
    "## names of the resturants having highest price Cuisines"
   ]
  },
  {
   "cell_type": "code",
   "execution_count": 91,
   "id": "65d44385",
   "metadata": {},
   "outputs": [
    {
     "data": {
      "text/plain": [
       "85      El Vaquero Mexican Restaurant\n",
       "201                          Deorio's\n",
       "240                            Azteca\n",
       "277     Happy Joe's Pizza & Ice Cream\n",
       "397                       Royal Hotel\n",
       "407                     Senor Iguanas\n",
       "634       The Latitude - Radisson Blu\n",
       "637                   Sheroes Hangout\n",
       "639                    Chapter 1 Cafe\n",
       "677                    The BrewMaster\n",
       "851              BMG - All Day Dining\n",
       "2364    Atmosphere Grill Cafe Sheesha\n",
       "2368                       UrbanCrave\n",
       "9242               Deena Chat Bhandar\n",
       "9254                  VNS Live Studio\n",
       "Name: Restaurant Name, dtype: object"
      ]
     },
     "execution_count": 91,
     "metadata": {},
     "output_type": "execute_result"
    }
   ],
   "source": [
    "df[df[\"Average Cost for two\"]==0][\"Restaurant Name\"]\n",
    "## these are the hotels which has zero average orders"
   ]
  },
  {
   "cell_type": "code",
   "execution_count": 92,
   "id": "3f56a5ff",
   "metadata": {},
   "outputs": [],
   "source": [
    "df1=pd.DataFrame()\n",
    "df1[\"City\"]=df[df[\"Average Cost for two\"]==0][\"City\"]\n",
    "df1[\"Restaurant Name\"]=df[df[\"Average Cost for two\"]==0][\"Restaurant Name\"]\n",
    "df1[\"Average Cost for two\"]=df[df[\"Average Cost for two\"]==0][\"Average Cost for two\"]"
   ]
  },
  {
   "cell_type": "code",
   "execution_count": 96,
   "id": "41da30b8",
   "metadata": {},
   "outputs": [
    {
     "data": {
      "text/html": [
       "<div>\n",
       "<style scoped>\n",
       "    .dataframe tbody tr th:only-of-type {\n",
       "        vertical-align: middle;\n",
       "    }\n",
       "\n",
       "    .dataframe tbody tr th {\n",
       "        vertical-align: top;\n",
       "    }\n",
       "\n",
       "    .dataframe thead th {\n",
       "        text-align: right;\n",
       "    }\n",
       "</style>\n",
       "<table border=\"1\" class=\"dataframe\">\n",
       "  <thead>\n",
       "    <tr style=\"text-align: right;\">\n",
       "      <th></th>\n",
       "      <th>City</th>\n",
       "      <th>Restaurant Name</th>\n",
       "      <th>Average Cost for two</th>\n",
       "    </tr>\n",
       "  </thead>\n",
       "  <tbody>\n",
       "    <tr>\n",
       "      <th>85</th>\n",
       "      <td>Albany</td>\n",
       "      <td>El Vaquero Mexican Restaurant</td>\n",
       "      <td>0</td>\n",
       "    </tr>\n",
       "    <tr>\n",
       "      <th>201</th>\n",
       "      <td>Columbus</td>\n",
       "      <td>Deorio's</td>\n",
       "      <td>0</td>\n",
       "    </tr>\n",
       "    <tr>\n",
       "      <th>240</th>\n",
       "      <td>Davenport</td>\n",
       "      <td>Azteca</td>\n",
       "      <td>0</td>\n",
       "    </tr>\n",
       "    <tr>\n",
       "      <th>277</th>\n",
       "      <td>Dubuque</td>\n",
       "      <td>Happy Joe's Pizza &amp; Ice Cream</td>\n",
       "      <td>0</td>\n",
       "    </tr>\n",
       "    <tr>\n",
       "      <th>397</th>\n",
       "      <td>Pocatello</td>\n",
       "      <td>Royal Hotel</td>\n",
       "      <td>0</td>\n",
       "    </tr>\n",
       "    <tr>\n",
       "      <th>407</th>\n",
       "      <td>Pocatello</td>\n",
       "      <td>Senor Iguanas</td>\n",
       "      <td>0</td>\n",
       "    </tr>\n",
       "    <tr>\n",
       "      <th>634</th>\n",
       "      <td>Agra</td>\n",
       "      <td>The Latitude - Radisson Blu</td>\n",
       "      <td>0</td>\n",
       "    </tr>\n",
       "    <tr>\n",
       "      <th>637</th>\n",
       "      <td>Agra</td>\n",
       "      <td>Sheroes Hangout</td>\n",
       "      <td>0</td>\n",
       "    </tr>\n",
       "    <tr>\n",
       "      <th>639</th>\n",
       "      <td>Agra</td>\n",
       "      <td>Chapter 1 Cafe</td>\n",
       "      <td>0</td>\n",
       "    </tr>\n",
       "    <tr>\n",
       "      <th>677</th>\n",
       "      <td>Allahabad</td>\n",
       "      <td>The BrewMaster</td>\n",
       "      <td>0</td>\n",
       "    </tr>\n",
       "    <tr>\n",
       "      <th>851</th>\n",
       "      <td>Dehradun</td>\n",
       "      <td>BMG - All Day Dining</td>\n",
       "      <td>0</td>\n",
       "    </tr>\n",
       "    <tr>\n",
       "      <th>2364</th>\n",
       "      <td>Kanpur</td>\n",
       "      <td>Atmosphere Grill Cafe Sheesha</td>\n",
       "      <td>0</td>\n",
       "    </tr>\n",
       "    <tr>\n",
       "      <th>2368</th>\n",
       "      <td>Kanpur</td>\n",
       "      <td>UrbanCrave</td>\n",
       "      <td>0</td>\n",
       "    </tr>\n",
       "    <tr>\n",
       "      <th>9242</th>\n",
       "      <td>Varanasi</td>\n",
       "      <td>Deena Chat Bhandar</td>\n",
       "      <td>0</td>\n",
       "    </tr>\n",
       "    <tr>\n",
       "      <th>9254</th>\n",
       "      <td>Varanasi</td>\n",
       "      <td>VNS Live Studio</td>\n",
       "      <td>0</td>\n",
       "    </tr>\n",
       "  </tbody>\n",
       "</table>\n",
       "</div>"
      ],
      "text/plain": [
       "           City                Restaurant Name  Average Cost for two\n",
       "85       Albany  El Vaquero Mexican Restaurant                     0\n",
       "201    Columbus                       Deorio's                     0\n",
       "240   Davenport                         Azteca                     0\n",
       "277     Dubuque  Happy Joe's Pizza & Ice Cream                     0\n",
       "397   Pocatello                    Royal Hotel                     0\n",
       "407   Pocatello                  Senor Iguanas                     0\n",
       "634        Agra    The Latitude - Radisson Blu                     0\n",
       "637        Agra                Sheroes Hangout                     0\n",
       "639        Agra                 Chapter 1 Cafe                     0\n",
       "677   Allahabad                 The BrewMaster                     0\n",
       "851    Dehradun           BMG - All Day Dining                     0\n",
       "2364     Kanpur  Atmosphere Grill Cafe Sheesha                     0\n",
       "2368     Kanpur                     UrbanCrave                     0\n",
       "9242   Varanasi             Deena Chat Bhandar                     0\n",
       "9254   Varanasi                VNS Live Studio                     0"
      ]
     },
     "execution_count": 96,
     "metadata": {},
     "output_type": "execute_result"
    }
   ],
   "source": [
    "df1 # Restaurants having 0 Average Cost"
   ]
  },
  {
   "cell_type": "code",
   "execution_count": 99,
   "id": "adc1db5d",
   "metadata": {},
   "outputs": [
    {
     "data": {
      "text/plain": [
       "Barbeque Nation                               5\n",
       "AB's - Absolute Barbecues                     3\n",
       "Talaga Sampireun                              3\n",
       "CakeBee                                       1\n",
       "Caterspoint                                   1\n",
       "Zolocrust - Hotel Clarks Amer                 1\n",
       "Grandson of Tunday Kababi                     1\n",
       "Mirchi And Mime                               1\n",
       "Naturals Ice Cream                            1\n",
       "Indian Accent - The Manor                     1\n",
       "Masala Library                                1\n",
       "Sushi Masa                                    1\n",
       "Milse                                         1\n",
       "Miann                                         1\n",
       "Flat Iron                                     1\n",
       "Duck & Waffle                                 1\n",
       "Bao                                           1\n",
       "Solita                                        1\n",
       "Mainland China Restaurant                     1\n",
       "Cube - Tasting Kitchen                        1\n",
       "Urbanologi                                    1\n",
       "Restaurant Mosaic @ The Orient                1\n",
       "Ministry of Crab                              1\n",
       "Gaga Manjero                                  1\n",
       "Starbucks                                     1\n",
       "The Great Indian Pub                          1\n",
       "Ooma                                          1\n",
       "Spiral - Sofitel Philippine Plaza Manila      1\n",
       "Sagar Gaire Fast Food                         1\n",
       "Silantro Fil-Mex                              1\n",
       "Coco Bambu                                    1\n",
       "Braseiro da Gíçvea                            1\n",
       "Garota de Ipanema                             1\n",
       "Rae's Coastal Cafe                            1\n",
       "Shorts Burger and Shine                       1\n",
       "Oakwood Cafe                                  1\n",
       "Tantra Asian Bistro                           1\n",
       "The Cafe                                      1\n",
       "Atlanta Highway Seafood Market                1\n",
       "Ingleside Village Pizza                       1\n",
       "Pom Pom's Teahouse and Sandwicheria           1\n",
       "Yellow Dog Eats                               1\n",
       "McGuire's Irish Pub & Brewery                 1\n",
       "Mama's Fish House                             1\n",
       "Marukame Udon                                 1\n",
       "Mazzaro's Italian Market                      1\n",
       "Mr. Dunderbak's Biergarten and Marketplatz    1\n",
       "Punjab Grill                                  1\n",
       "AB's Absolute Barbecues                       1\n",
       "Carnival By Tresind                           1\n",
       "Tresind - Nassima Royal Hotel                 1\n",
       "Sheroes Hangout                               1\n",
       "Draft Gastro Pub                              1\n",
       "Name: Restaurant Name, dtype: int64"
      ]
     },
     "execution_count": 99,
     "metadata": {},
     "output_type": "execute_result"
    }
   ],
   "source": [
    "df[df[\"Aggregate rating\"]==4.9][\"Restaurant Name\"].value_counts() # Restaurant having higest rating i.e 4.9"
   ]
  },
  {
   "cell_type": "code",
   "execution_count": 101,
   "id": "d937fd5c",
   "metadata": {},
   "outputs": [
    {
     "data": {
      "text/plain": [
       "Kolkata     2\n",
       "Guwahati    1\n",
       "Nagpur      1\n",
       "Vizag       1\n",
       "Name: City, dtype: int64"
      ]
     },
     "execution_count": 101,
     "metadata": {},
     "output_type": "execute_result"
    }
   ],
   "source": [
    "df[(df[\"Restaurant Name\"]==\"Barbeque Nation\") & (df[\"Aggregate rating\"]==4.9)][\"City\"].value_counts()\n",
    "# Location of Barbeque Nation having Aggregate rating of 4.9"
   ]
  },
  {
   "cell_type": "code",
   "execution_count": 107,
   "id": "7bc3c9e5",
   "metadata": {},
   "outputs": [],
   "source": [
    "## most sold orders and their average ratings"
   ]
  },
  {
   "cell_type": "code",
   "execution_count": 102,
   "id": "fc3b4573",
   "metadata": {},
   "outputs": [
    {
     "data": {
      "text/plain": [
       "Cafe Coffee Day     16\n",
       "Baskin Robbins      12\n",
       "Aggarwal Sweets     10\n",
       "Green Chick Chop     7\n",
       "Bikaner Sweets       7\n",
       "Name: Restaurant Name, dtype: int64"
      ]
     },
     "execution_count": 102,
     "metadata": {},
     "output_type": "execute_result"
    }
   ],
   "source": [
    "df[df[\"Aggregate rating\"]==0][\"Restaurant Name\"].value_counts().head()\n",
    "# most zero ratings are for Cafe Coffe Day"
   ]
  },
  {
   "cell_type": "code",
   "execution_count": 103,
   "id": "76fda641",
   "metadata": {},
   "outputs": [
    {
     "data": {
      "text/plain": [
       "New Delhi    8\n",
       "Noida        6\n",
       "Gurgaon      2\n",
       "Name: City, dtype: int64"
      ]
     },
     "execution_count": 103,
     "metadata": {},
     "output_type": "execute_result"
    }
   ],
   "source": [
    "df[(df[\"Restaurant Name\"]==\"Cafe Coffee Day\") & (df[\"Aggregate rating\"]==0)][\"City\"].value_counts()\n",
    "# location of ccd having 0 ratings"
   ]
  },
  {
   "cell_type": "code",
   "execution_count": 105,
   "id": "4da570ec",
   "metadata": {},
   "outputs": [
    {
     "data": {
      "text/plain": [
       "False    5416\n",
       "True       57\n",
       "Name: Restaurant Name, dtype: int64"
      ]
     },
     "execution_count": 105,
     "metadata": {},
     "output_type": "execute_result"
    }
   ],
   "source": [
    "(df[df[\"City\"]==\"New Delhi\"][\"Restaurant Name\"]==\"Cafe Coffee Day\").value_counts()\n",
    "# ccd have 57 outlets in New Delhi among them 8 are 0 orders"
   ]
  },
  {
   "cell_type": "code",
   "execution_count": 106,
   "id": "f99c2f5d",
   "metadata": {},
   "outputs": [
    {
     "data": {
      "text/plain": [
       "14"
      ]
     },
     "execution_count": 106,
     "metadata": {},
     "output_type": "execute_result"
    }
   ],
   "source": [
    "len(df[df[\"Restaurant Name\"]==\"Aggarwal Sweets\"])\n",
    "# \"aggarwal Sweets having a total of 14 orders and among them 10 are 0 rating orders \""
   ]
  },
  {
   "cell_type": "code",
   "execution_count": 107,
   "id": "8dff6a1e",
   "metadata": {},
   "outputs": [
    {
     "name": "stderr",
     "output_type": "stream",
     "text": [
      "C:\\Users\\kvsan\\AppData\\Local\\Temp\\ipykernel_2956\\2990873362.py:1: UserWarning: Boolean Series key will be reindexed to match DataFrame index.\n",
      "  df[(df[\"Restaurant Name\"].value_counts()==1) & (df[\"Aggregate rating\"]==0)].value_counts()\n"
     ]
    },
    {
     "data": {
      "text/plain": [
       "Series([], dtype: int64)"
      ]
     },
     "execution_count": 107,
     "metadata": {},
     "output_type": "execute_result"
    }
   ],
   "source": [
    "df[(df[\"Restaurant Name\"].value_counts()==1) & (df[\"Aggregate rating\"]==0)].value_counts()\n",
    "# thank fully there are no hotels who had only 1 order and that 1 order has zero ratting"
   ]
  },
  {
   "cell_type": "code",
   "execution_count": 108,
   "id": "52830da2",
   "metadata": {},
   "outputs": [
    {
     "data": {
      "text/plain": [
       "13"
      ]
     },
     "execution_count": 108,
     "metadata": {},
     "output_type": "execute_result"
    }
   ],
   "source": [
    "len(df[df[\"Restaurant Name\"]==\"Bikaner Sweets\"])\n",
    "##Bikaner Sweets made 13 orders and 7 among them are zero rating orders"
   ]
  },
  {
   "cell_type": "code",
   "execution_count": 110,
   "id": "28cb1b97",
   "metadata": {},
   "outputs": [
    {
     "data": {
      "text/plain": [
       "New Delhi     1425\n",
       "Noida          384\n",
       "Gurgaon        228\n",
       "Faridabad      100\n",
       "Sí£o Paulo       3\n",
       "Name: City, dtype: int64"
      ]
     },
     "execution_count": 110,
     "metadata": {},
     "output_type": "execute_result"
    }
   ],
   "source": [
    "df[df[\"Aggregate rating\"]==0][\"City\"].value_counts().head()\n",
    "## new delhi has the highest zero ratings"
   ]
  },
  {
   "cell_type": "code",
   "execution_count": 111,
   "id": "660d1381",
   "metadata": {},
   "outputs": [
    {
     "data": {
      "text/plain": [
       "New Delhi    5473\n",
       "Gurgaon      1118\n",
       "Noida        1080\n",
       "Faridabad     251\n",
       "Ghaziabad      25\n",
       "Name: City, dtype: int64"
      ]
     },
     "execution_count": 111,
     "metadata": {},
     "output_type": "execute_result"
    }
   ],
   "source": [
    "df[\"City\"].value_counts().head()"
   ]
  },
  {
   "cell_type": "code",
   "execution_count": 112,
   "id": "965c233c",
   "metadata": {},
   "outputs": [],
   "source": [
    "## 26% of ratings are zero ratings in delhi"
   ]
  },
  {
   "cell_type": "code",
   "execution_count": 113,
   "id": "3051e007",
   "metadata": {},
   "outputs": [],
   "source": [
    "df_zero=df[df[\"Aggregate rating\"]==0]"
   ]
  },
  {
   "cell_type": "code",
   "execution_count": 123,
   "id": "cec3823c",
   "metadata": {},
   "outputs": [
    {
     "data": {
      "text/plain": [
       "City\n",
       "New Delhi         1425\n",
       "Noida              384\n",
       "Gurgaon            228\n",
       "Faridabad          100\n",
       "Sí£o Paulo           3\n",
       "Davenport            2\n",
       "Ghaziabad            2\n",
       "Birmingham           1\n",
       "Brasí_lia            1\n",
       "Pocatello            1\n",
       "Rio de Janeiro       1\n",
       "Name: Aggregate rating, dtype: int64"
      ]
     },
     "execution_count": 123,
     "metadata": {},
     "output_type": "execute_result"
    }
   ],
   "source": [
    "df_zero.groupby(\"City\")[\"Aggregate rating\"].count().sort_values(ascending=False)"
   ]
  },
  {
   "cell_type": "code",
   "execution_count": 115,
   "id": "382fb835",
   "metadata": {},
   "outputs": [
    {
     "data": {
      "text/html": [
       "<div>\n",
       "<style scoped>\n",
       "    .dataframe tbody tr th:only-of-type {\n",
       "        vertical-align: middle;\n",
       "    }\n",
       "\n",
       "    .dataframe tbody tr th {\n",
       "        vertical-align: top;\n",
       "    }\n",
       "\n",
       "    .dataframe thead th {\n",
       "        text-align: right;\n",
       "    }\n",
       "</style>\n",
       "<table border=\"1\" class=\"dataframe\">\n",
       "  <thead>\n",
       "    <tr style=\"text-align: right;\">\n",
       "      <th></th>\n",
       "      <th>Restaurant Name</th>\n",
       "      <th>Aggregate rating</th>\n",
       "    </tr>\n",
       "  </thead>\n",
       "  <tbody>\n",
       "    <tr>\n",
       "      <th>0</th>\n",
       "      <td>Let's Burrrp</td>\n",
       "      <td>1</td>\n",
       "    </tr>\n",
       "    <tr>\n",
       "      <th>1</th>\n",
       "      <td>#InstaFreeze</td>\n",
       "      <td>1</td>\n",
       "    </tr>\n",
       "    <tr>\n",
       "      <th>2</th>\n",
       "      <td>#hashtag</td>\n",
       "      <td>1</td>\n",
       "    </tr>\n",
       "    <tr>\n",
       "      <th>3</th>\n",
       "      <td>13 Cafe</td>\n",
       "      <td>1</td>\n",
       "    </tr>\n",
       "    <tr>\n",
       "      <th>4</th>\n",
       "      <td>17 Degree Food Service</td>\n",
       "      <td>1</td>\n",
       "    </tr>\n",
       "    <tr>\n",
       "      <th>...</th>\n",
       "      <td>...</td>\n",
       "      <td>...</td>\n",
       "    </tr>\n",
       "    <tr>\n",
       "      <th>1942</th>\n",
       "      <td>Zawlbuk</td>\n",
       "      <td>1</td>\n",
       "    </tr>\n",
       "    <tr>\n",
       "      <th>1943</th>\n",
       "      <td>Zayka chicken restaurant</td>\n",
       "      <td>1</td>\n",
       "    </tr>\n",
       "    <tr>\n",
       "      <th>1944</th>\n",
       "      <td>Zombiez</td>\n",
       "      <td>1</td>\n",
       "    </tr>\n",
       "    <tr>\n",
       "      <th>1945</th>\n",
       "      <td>deliKitchen</td>\n",
       "      <td>1</td>\n",
       "    </tr>\n",
       "    <tr>\n",
       "      <th>1946</th>\n",
       "      <td>iKitchen</td>\n",
       "      <td>1</td>\n",
       "    </tr>\n",
       "  </tbody>\n",
       "</table>\n",
       "<p>1947 rows × 2 columns</p>\n",
       "</div>"
      ],
      "text/plain": [
       "               Restaurant Name  Aggregate rating\n",
       "0                 Let's Burrrp                 1\n",
       "1                 #InstaFreeze                 1\n",
       "2                     #hashtag                 1\n",
       "3                      13 Cafe                 1\n",
       "4       17 Degree Food Service                 1\n",
       "...                        ...               ...\n",
       "1942                   Zawlbuk                 1\n",
       "1943  Zayka chicken restaurant                 1\n",
       "1944                   Zombiez                 1\n",
       "1945               deliKitchen                 1\n",
       "1946                  iKitchen                 1\n",
       "\n",
       "[1947 rows x 2 columns]"
      ]
     },
     "execution_count": 115,
     "metadata": {},
     "output_type": "execute_result"
    }
   ],
   "source": [
    "dfzer=df_zero.groupby(\"Restaurant Name\")[\"Aggregate rating\"].count().reset_index()\n",
    "dfzer.columns=[\"Restaurant Name\",\"Aggregate rating\"]\n",
    "dfzer\n",
    "# We have 1947 Restaurants having 1 Aggregate rating"
   ]
  },
  {
   "cell_type": "code",
   "execution_count": 117,
   "id": "797b2571",
   "metadata": {},
   "outputs": [
    {
     "data": {
      "text/plain": [
       "North Indian                          444\n",
       "Chinese                               130\n",
       "Fast Food                             126\n",
       "North Indian, Chinese                 114\n",
       "Bakery                                 88\n",
       "                                     ... \n",
       "South Indian, Pizza, Chinese            1\n",
       "Chinese, Bakery                         1\n",
       "Italian, Fast Food, South Indian        1\n",
       "Bengali, Chinese                        1\n",
       "North Indian, Mughlai, Continental      1\n",
       "Name: Cuisines, Length: 303, dtype: int64"
      ]
     },
     "execution_count": 117,
     "metadata": {},
     "output_type": "execute_result"
    }
   ],
   "source": [
    "df_f[df_f[\"Aggregate rating\"]==0][\"Cuisines\"].value_counts()\n",
    "## more zero reviews are for North Indian Cuisines"
   ]
  },
  {
   "cell_type": "code",
   "execution_count": 128,
   "id": "433490b0",
   "metadata": {},
   "outputs": [
    {
     "data": {
      "text/plain": [
       "904"
      ]
     },
     "execution_count": 128,
     "metadata": {},
     "output_type": "execute_result"
    }
   ],
   "source": [
    "len(df_f[df_f[\"Cuisines\"]==\"North Indian\"])"
   ]
  },
  {
   "cell_type": "code",
   "execution_count": 118,
   "id": "350ac460",
   "metadata": {},
   "outputs": [],
   "source": [
    "# among 904 orders 444 are zero reviews "
   ]
  },
  {
   "cell_type": "code",
   "execution_count": 120,
   "id": "8828caf0",
   "metadata": {},
   "outputs": [
    {
     "data": {
      "text/plain": [
       "325"
      ]
     },
     "execution_count": 120,
     "metadata": {},
     "output_type": "execute_result"
    }
   ],
   "source": [
    "len(df_f[df_f[\"Cuisines\"]==\"Chinese\"])\n",
    "# 325 Cuisines are Chinese"
   ]
  },
  {
   "cell_type": "code",
   "execution_count": 121,
   "id": "c954f3f2",
   "metadata": {},
   "outputs": [
    {
     "data": {
      "text/plain": [
       "North Indian             936\n",
       "North Indian, Chinese    511\n",
       "Chinese                  354\n",
       "Fast Food                354\n",
       "North Indian, Mughlai    334\n",
       "Name: Cuisines, dtype: int64"
      ]
     },
     "execution_count": 121,
     "metadata": {},
     "output_type": "execute_result"
    }
   ],
   "source": [
    "### average rating of top 5 cuisines\n",
    "df[\"Cuisines\"].value_counts().head()"
   ]
  },
  {
   "cell_type": "code",
   "execution_count": 122,
   "id": "ee29d356",
   "metadata": {},
   "outputs": [
    {
     "name": "stdout",
     "output_type": "stream",
     "text": [
      "average ratting of North Indian Cuisine is :  1.59\n",
      "average ratting of North Indian, Chinese Cuisine is :  2.32\n",
      "average ratting of Chinese Cuisine is :  1.87\n",
      "average ratting of Fast Food Cuisine is :  2.0\n",
      "average ratting of North Indian, Mughlai Cuisine is :  2.83\n"
     ]
    }
   ],
   "source": [
    "l=[\"North Indian\",\"North Indian, Chinese\",\"Chinese\",\"Fast Food\",\"North Indian, Mughlai\"]\n",
    "for i in l:\n",
    "    print(\"average ratting of\",i,\"Cuisine is : \",round(df_f[df_f[\"Cuisines\"]==i][\"Aggregate rating\"].mean(),2))\n",
    "    # average ratting of top 5 Cuisines "
   ]
  },
  {
   "cell_type": "code",
   "execution_count": 124,
   "id": "568e3aa3",
   "metadata": {},
   "outputs": [
    {
     "data": {
      "text/plain": [
       "Indian Rupees(Rs.)    2139\n",
       "Name: Currency, dtype: int64"
      ]
     },
     "execution_count": 124,
     "metadata": {},
     "output_type": "execute_result"
    }
   ],
   "source": [
    "df_f[df_f[\"Aggregate rating\"]==0][\"Currency\"].value_counts()\n",
    "# All of the Zero Ratings are Indian"
   ]
  },
  {
   "cell_type": "code",
   "execution_count": 126,
   "id": "7fd5a501",
   "metadata": {},
   "outputs": [
    {
     "data": {
      "text/plain": [
       "Indian Rupees(Rs.)        8652\n",
       "Dollar($)                  473\n",
       "Pounds(£)                  80\n",
       "Brazilian Real(R$)          60\n",
       "Emirati Diram(AED)          60\n",
       "Rand(R)                     60\n",
       "NewZealand($)               40\n",
       "Turkish Lira(TL)            34\n",
       "Botswana Pula(P)            22\n",
       "Indonesian Rupiah(IDR)      21\n",
       "Qatari Rial(QR)             20\n",
       "Sri Lankan Rupee(LKR)       20\n",
       "Name: Currency, dtype: int64"
      ]
     },
     "execution_count": 126,
     "metadata": {},
     "output_type": "execute_result"
    }
   ],
   "source": [
    "df[\"Currency\"].value_counts()\n",
    "## 8652 are from india among them 2139 are zero rating orders"
   ]
  },
  {
   "cell_type": "code",
   "execution_count": 128,
   "id": "cb2df7c6",
   "metadata": {},
   "outputs": [],
   "source": [
    "a=[\"White\",\"Red\",\"Yellow\",\"Green\",\"Dark Green\"]"
   ]
  },
  {
   "cell_type": "code",
   "execution_count": 129,
   "id": "33379ba7",
   "metadata": {},
   "outputs": [
    {
     "name": "stdout",
     "output_type": "stream",
     "text": [
      "The average rating of color  White 0.0\n",
      "The average rating of color  Red 2.3\n",
      "The average rating of color  Yellow 3.68\n",
      "The average rating of color  Green 4.17\n",
      "The average rating of color  Dark Green 4.66\n"
     ]
    }
   ],
   "source": [
    "for i in a:\n",
    "    print(\"The average rating of color \",i,round(df[df[\"Rating color\"]==i][\"Aggregate rating\"].mean(),2))\n",
    "    "
   ]
  },
  {
   "cell_type": "code",
   "execution_count": 130,
   "id": "bc1162ca",
   "metadata": {},
   "outputs": [
    {
     "data": {
      "text/plain": [
       "Text(0, 0.5, 'Average ratting')"
      ]
     },
     "execution_count": 130,
     "metadata": {},
     "output_type": "execute_result"
    },
    {
     "data": {
      "image/png": "[encoded data removed]",
      "text/plain": [
       "<Figure size 640x480 with 1 Axes>"
      ]
     },
     "metadata": {},
     "output_type": "display_data"
    }
   ],
   "source": [
    "sns.barplot(x=a,y=[0,2.3,3.68,4.17,4.66])\n",
    "plt.title(\"Average rattings of different Colors\")\n",
    "plt.xlabel(\"color\")\n",
    "plt.ylabel(\"Average ratting\")"
   ]
  },
  {
   "cell_type": "code",
   "execution_count": 131,
   "id": "ec51b42e",
   "metadata": {},
   "outputs": [
    {
     "data": {
      "text/plain": [
       "Orange        3734\n",
       "White         2148\n",
       "Yellow        2096\n",
       "Green         1078\n",
       "Dark Green     300\n",
       "Red            186\n",
       "Name: Rating color, dtype: int64"
      ]
     },
     "execution_count": 131,
     "metadata": {},
     "output_type": "execute_result"
    }
   ],
   "source": [
    "df[\"Rating color\"].value_counts()\n",
    "# Rating Color "
   ]
  },
  {
   "cell_type": "code",
   "execution_count": 134,
   "id": "4b298eed",
   "metadata": {},
   "outputs": [
    {
     "data": {
      "text/plain": [
       "<Axes: ylabel='Has Table booking'>"
      ]
     },
     "execution_count": 134,
     "metadata": {},
     "output_type": "execute_result"
    },
    {
     "data": {
      "image/png": "[encoded data removed]",
      "text/plain": [
       "<Figure size 640x480 with 1 Axes>"
      ]
     },
     "metadata": {},
     "output_type": "display_data"
    }
   ],
   "source": [
    "df_f[df_f[\"Aggregate rating\"]==0][\"Has Table booking\"].value_counts().plot(kind=\"pie\",autopct=\"%2.2f\")\n",
    "# 97.8 percent of orders which has Aggregate rating 0 don't have table booking "
   ]
  },
  {
   "cell_type": "code",
   "execution_count": 135,
   "id": "d1b85bc9",
   "metadata": {},
   "outputs": [
    {
     "data": {
      "text/plain": [
       "<Axes: ylabel='Has Table booking'>"
      ]
     },
     "execution_count": 135,
     "metadata": {},
     "output_type": "execute_result"
    },
    {
     "data": {
      "image/png": "[encoded data removed]",
      "text/plain": [
       "<Figure size 640x480 with 1 Axes>"
      ]
     },
     "metadata": {},
     "output_type": "display_data"
    }
   ],
   "source": [
    "df_f[\"Has Table booking\"].value_counts().plot(kind=\"pie\",autopct=\"%2.2f\")"
   ]
  },
  {
   "cell_type": "code",
   "execution_count": 136,
   "id": "5654945e",
   "metadata": {},
   "outputs": [],
   "source": [
    "## i dont think its a huge difference"
   ]
  },
  {
   "cell_type": "code",
   "execution_count": 137,
   "id": "d5036c59",
   "metadata": {},
   "outputs": [
    {
     "data": {
      "text/plain": [
       "Average      3734\n",
       "Not rated    2148\n",
       "Good         2096\n",
       "Very Good    1078\n",
       "Excellent     300\n",
       "Poor          186\n",
       "Name: Rating text, dtype: int64"
      ]
     },
     "execution_count": 137,
     "metadata": {},
     "output_type": "execute_result"
    }
   ],
   "source": [
    "df[\"Rating text\"].value_counts()"
   ]
  },
  {
   "cell_type": "code",
   "execution_count": 139,
   "id": "64002851",
   "metadata": {},
   "outputs": [
    {
     "data": {
      "text/plain": [
       "New Delhi         28\n",
       "London            15\n",
       "Gurgaon           12\n",
       "Rio de Janeiro    11\n",
       "Tampa Bay         10\n",
       "                  ..\n",
       "Lincoln            1\n",
       "Beechworth         1\n",
       "Tangerang          1\n",
       "Ludhiana           1\n",
       "Secunderabad       1\n",
       "Name: City, Length: 74, dtype: int64"
      ]
     },
     "execution_count": 139,
     "metadata": {},
     "output_type": "execute_result"
    }
   ],
   "source": [
    "df[df[\"Rating text\"]==\"Excellent\"][\"City\"].value_counts()\n",
    "# New Delhi Has Highest Excellent Ratings"
   ]
  },
  {
   "cell_type": "code",
   "execution_count": 140,
   "id": "3b8cedfd",
   "metadata": {},
   "outputs": [
    {
     "data": {
      "text/plain": [
       "Barbeque Nation              11\n",
       "AB's - Absolute Barbecues     4\n",
       "Chili's                       4\n",
       "Talaga Sampireun              3\n",
       "The Cheesecake Factory        2\n",
       "                             ..\n",
       "Taco Bus                      1\n",
       "Denny's                       1\n",
       "Famous Dave's Barbecue        1\n",
       "Genghis Grill                 1\n",
       "Karakí_y Gí_llí_oÛôlu         1\n",
       "Name: Restaurant Name, Length: 271, dtype: int64"
      ]
     },
     "execution_count": 140,
     "metadata": {},
     "output_type": "execute_result"
    }
   ],
   "source": [
    "df[df[\"Rating text\"]==\"Excellent\"][\"Restaurant Name\"].value_counts()\n",
    "# Barbeque Nation has Highest Excellent ratings"
   ]
  },
  {
   "cell_type": "code",
   "execution_count": 141,
   "id": "c9585a24",
   "metadata": {},
   "outputs": [
    {
     "data": {
      "text/plain": [
       "Cafe                                8\n",
       "North Indian                        7\n",
       "Italian                             7\n",
       "Indian                              5\n",
       "Ice Cream                           5\n",
       "                                   ..\n",
       "Desserts, Bar Food                  1\n",
       "International, Italian, Southern    1\n",
       "Mexican, Vegetarian                 1\n",
       "Filipino, Japanese, Asian           1\n",
       "Desserts, Bí_rek                    1\n",
       "Name: Cuisines, Length: 214, dtype: int64"
      ]
     },
     "execution_count": 141,
     "metadata": {},
     "output_type": "execute_result"
    }
   ],
   "source": [
    "df[df[\"Rating text\"]==\"Excellent\"][\"Cuisines\"].value_counts()\n",
    "# Cafe Cuisine has highest Excellent ratings"
   ]
  },
  {
   "cell_type": "code",
   "execution_count": 143,
   "id": "983f3a42",
   "metadata": {},
   "outputs": [
    {
     "data": {
      "text/plain": [
       "Indian Rupees(Rs.)        116\n",
       "Dollar($)                  68\n",
       "Pounds(£)                 23\n",
       "Emirati Diram(AED)         18\n",
       "Brazilian Real(R$)         16\n",
       "Botswana Pula(P)           12\n",
       "NewZealand($)              12\n",
       "Rand(R)                    12\n",
       "Turkish Lira(TL)           10\n",
       "Indonesian Rupiah(IDR)      7\n",
       "Qatari Rial(QR)             4\n",
       "Sri Lankan Rupee(LKR)       2\n",
       "Name: Currency, dtype: int64"
      ]
     },
     "execution_count": 143,
     "metadata": {},
     "output_type": "execute_result"
    }
   ],
   "source": [
    "df[df[\"Rating text\"]==\"Excellent\"][\"Currency\"].value_counts()\n",
    "# Indian Transactions have Highest Excellent Ratings"
   ]
  },
  {
   "cell_type": "code",
   "execution_count": 144,
   "id": "5ed477a7",
   "metadata": {},
   "outputs": [],
   "source": [
    "# eda is some thing which has no end"
   ]
  },
  {
   "cell_type": "code",
   "execution_count": null,
   "id": "6b9abac0",
   "metadata": {},
   "outputs": [],
   "source": []
  }
 ],
 "metadata": {
  "kernelspec": {
   "display_name": "Python 3 (ipykernel)",
   "language": "python",
   "name": "python3"
  },
  "language_info": {
   "codemirror_mode": {
    "name": "ipython",
    "version": 3
   },
   "file_extension": ".py",
   "mimetype": "text/x-python",
   "name": "python",
   "nbconvert_exporter": "python",
   "pygments_lexer": "ipython3",
   "version": "3.11.4"
  }
 },
 "nbformat": 4,
 "nbformat_minor": 5
}
